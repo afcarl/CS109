{
 "metadata": {
  "name": "Script_3"
 },
 "nbformat": 3,
 "nbformat_minor": 0,
 "worksheets": [
  {
   "cells": [
    {
     "cell_type": "heading",
     "level": 2,
     "metadata": {},
     "source": [
      "[Topic]: Introduction to \"Pandas\" Python data analytics library  "
     ]
    },
    {
     "cell_type": "heading",
     "level": 5,
     "metadata": {},
     "source": [
      "[MG]: This is my 3rd IPython NB for CS109 Course\n",
      "[Author]: manoj\n",
      "[Location]: IIITD India"
     ]
    },
    {
     "cell_type": "code",
     "collapsed": false,
     "input": [
      "import numpy as np\n",
      "import pandas as pd\n",
      "import json"
     ],
     "language": "python",
     "metadata": {},
     "outputs": [],
     "prompt_number": 30
    },
    {
     "cell_type": "code",
     "collapsed": false,
     "input": [
      "path = 'ch02_pandas/usagov_bitly_data2012-03-16-1331923249.txt'"
     ],
     "language": "python",
     "metadata": {},
     "outputs": [],
     "prompt_number": 31
    },
    {
     "cell_type": "code",
     "collapsed": false,
     "input": [
      "path"
     ],
     "language": "python",
     "metadata": {},
     "outputs": [
      {
       "output_type": "pyout",
       "prompt_number": 32,
       "text": [
        "'ch02_pandas/usagov_bitly_data2012-03-16-1331923249.txt'"
       ]
      }
     ],
     "prompt_number": 32
    },
    {
     "cell_type": "code",
     "collapsed": false,
     "input": [
      "# To open a file in python console located at path defined by 'path'\n",
      "# Readline is a object to check one line of the loaded file terminated by new line '\\n'\n",
      "open(path).readline()"
     ],
     "language": "python",
     "metadata": {},
     "outputs": [
      {
       "output_type": "pyout",
       "prompt_number": 33,
       "text": [
        "'{ \"a\": \"Mozilla\\\\/5.0 (Windows NT 6.1; WOW64) AppleWebKit\\\\/535.11 (KHTML, like Gecko) Chrome\\\\/17.0.963.78 Safari\\\\/535.11\", \"c\": \"US\", \"nk\": 1, \"tz\": \"America\\\\/New_York\", \"gr\": \"MA\", \"g\": \"A6qOVH\", \"h\": \"wfLQtf\", \"l\": \"orofrog\", \"al\": \"en-US,en;q=0.8\", \"hh\": \"1.usa.gov\", \"r\": \"http:\\\\/\\\\/www.facebook.com\\\\/l\\\\/7AQEFzjSi\\\\/1.usa.gov\\\\/wfLQtf\", \"u\": \"http:\\\\/\\\\/www.ncbi.nlm.nih.gov\\\\/pubmed\\\\/22415991\", \"t\": 1331923247, \"hc\": 1331822918, \"cy\": \"Danvers\", \"ll\": [ 42.576698, -70.954903 ] }\\n'"
       ]
      }
     ],
     "prompt_number": 33
    },
    {
     "cell_type": "code",
     "collapsed": false,
     "input": [
      "# Specializing JSON object decoding: \n",
      "# Each line is loaded as a seperate record which can be decoded as indiviual json object\n",
      "records = [json.loads(line) for line in open(path)]"
     ],
     "language": "python",
     "metadata": {},
     "outputs": [],
     "prompt_number": 34
    },
    {
     "cell_type": "code",
     "collapsed": false,
     "input": [
      "# Sanity check for json decode\n",
      "records[0]"
     ],
     "language": "python",
     "metadata": {},
     "outputs": [
      {
       "output_type": "pyout",
       "prompt_number": 37,
       "text": [
        "{u'a': u'Mozilla/5.0 (Windows NT 6.1; WOW64) AppleWebKit/535.11 (KHTML, like Gecko) Chrome/17.0.963.78 Safari/535.11',\n",
        " u'al': u'en-US,en;q=0.8',\n",
        " u'c': u'US',\n",
        " u'cy': u'Danvers',\n",
        " u'g': u'A6qOVH',\n",
        " u'gr': u'MA',\n",
        " u'h': u'wfLQtf',\n",
        " u'hc': 1331822918,\n",
        " u'hh': u'1.usa.gov',\n",
        " u'l': u'orofrog',\n",
        " u'll': [42.576698, -70.954903],\n",
        " u'nk': 1,\n",
        " u'r': u'http://www.facebook.com/l/7AQEFzjSi/1.usa.gov/wfLQtf',\n",
        " u't': 1331923247,\n",
        " u'tz': u'America/New_York',\n",
        " u'u': u'http://www.ncbi.nlm.nih.gov/pubmed/22415991'}"
       ]
      }
     ],
     "prompt_number": 37
    },
    {
     "cell_type": "code",
     "collapsed": false,
     "input": [
      "# Accessing indiviual values: string level parsing\n",
      "time_zones = [rec['tz'] for rec in records if 'tz' in rec]\n",
      "time_zones[0:10]"
     ],
     "language": "python",
     "metadata": {},
     "outputs": [
      {
       "output_type": "pyout",
       "prompt_number": 96,
       "text": [
        "[u'America/New_York',\n",
        " u'America/Denver',\n",
        " u'America/New_York',\n",
        " u'America/Sao_Paulo',\n",
        " u'America/New_York',\n",
        " u'America/New_York',\n",
        " u'Europe/Warsaw',\n",
        " u'',\n",
        " u'',\n",
        " u'']"
       ]
      }
     ],
     "prompt_number": 96
    },
    {
     "cell_type": "code",
     "collapsed": false,
     "input": [
      "#sequence = time_zones\n",
      "def get_counts(sequence):\n",
      "    counts = {}\n",
      "    for x in sequence:\n",
      "        if x in counts:\n",
      "            counts[x] += 1\n",
      "        else:\n",
      "            counts[x] = 1\n",
      "    return counts"
     ],
     "language": "python",
     "metadata": {},
     "outputs": [],
     "prompt_number": 80
    },
    {
     "cell_type": "code",
     "collapsed": false,
     "input": [
      "counts = get_counts(time_zones)\n",
      "counts['America/New_York']"
     ],
     "language": "python",
     "metadata": {},
     "outputs": [
      {
       "output_type": "pyout",
       "prompt_number": 81,
       "text": [
        "1251"
       ]
      }
     ],
     "prompt_number": 81
    },
    {
     "cell_type": "code",
     "collapsed": false,
     "input": [
      "len(time_zones)"
     ],
     "language": "python",
     "metadata": {},
     "outputs": [
      {
       "output_type": "pyout",
       "prompt_number": 82,
       "text": [
        "3440"
       ]
      }
     ],
     "prompt_number": 82
    },
    {
     "cell_type": "code",
     "collapsed": false,
     "input": [
      "time_zones.sort()"
     ],
     "language": "python",
     "metadata": {},
     "outputs": [],
     "prompt_number": 83
    },
    {
     "cell_type": "code",
     "collapsed": false,
     "input": [
      "time_zones[-10:]\n"
     ],
     "language": "python",
     "metadata": {},
     "outputs": [
      {
       "output_type": "pyout",
       "prompt_number": 86,
       "text": [
        "[u'Pacific/Honolulu',\n",
        " u'Pacific/Honolulu',\n",
        " u'Pacific/Honolulu',\n",
        " u'Pacific/Honolulu',\n",
        " u'Pacific/Honolulu',\n",
        " u'Pacific/Honolulu',\n",
        " u'Pacific/Honolulu',\n",
        " u'Pacific/Honolulu',\n",
        " u'Pacific/Honolulu',\n",
        " u'Pacific/Honolulu']"
       ]
      }
     ],
     "prompt_number": 86
    },
    {
     "cell_type": "code",
     "collapsed": false,
     "input": [
      "from collections import defaultdict"
     ],
     "language": "python",
     "metadata": {},
     "outputs": [],
     "prompt_number": 99
    },
    {
     "cell_type": "code",
     "collapsed": false,
     "input": [
      "def top_counts(count_dict, n=10):\n",
      "    value_key_pairs = [(count, tz) for tz, count in count_dict.items()]\n",
      "    value_key_pairs.sort()\n",
      "    return value_key_pairs[-n:]"
     ],
     "language": "python",
     "metadata": {},
     "outputs": [],
     "prompt_number": 100
    },
    {
     "cell_type": "code",
     "collapsed": false,
     "input": [
      "top_counts(counts)"
     ],
     "language": "python",
     "metadata": {},
     "outputs": [
      {
       "output_type": "pyout",
       "prompt_number": 101,
       "text": [
        "[(33, u'America/Sao_Paulo'),\n",
        " (35, u'Europe/Madrid'),\n",
        " (36, u'Pacific/Honolulu'),\n",
        " (37, u'Asia/Tokyo'),\n",
        " (74, u'Europe/London'),\n",
        " (191, u'America/Denver'),\n",
        " (382, u'America/Los_Angeles'),\n",
        " (400, u'America/Chicago'),\n",
        " (521, u''),\n",
        " (1251, u'America/New_York')]"
       ]
      }
     ],
     "prompt_number": 101
    },
    {
     "cell_type": "code",
     "collapsed": false,
     "input": [
      "value_key_pairs = [(count, ts) for ts, count in counts.items()]"
     ],
     "language": "python",
     "metadata": {},
     "outputs": [],
     "prompt_number": 103
    },
    {
     "cell_type": "code",
     "collapsed": false,
     "input": [
      "value_key_pairs.sort()\n",
      "value_key_pairs[-10:]"
     ],
     "language": "python",
     "metadata": {},
     "outputs": [
      {
       "output_type": "pyout",
       "prompt_number": 107,
       "text": [
        "[(33, u'America/Sao_Paulo'),\n",
        " (35, u'Europe/Madrid'),\n",
        " (36, u'Pacific/Honolulu'),\n",
        " (37, u'Asia/Tokyo'),\n",
        " (74, u'Europe/London'),\n",
        " (191, u'America/Denver'),\n",
        " (382, u'America/Los_Angeles'),\n",
        " (400, u'America/Chicago'),\n",
        " (521, u''),\n",
        " (1251, u'America/New_York')]"
       ]
      }
     ],
     "prompt_number": 107
    },
    {
     "cell_type": "code",
     "collapsed": false,
     "input": [
      "# A brief introduction to Time library in Python\n",
      "from time import strftime, gmtime, localtime"
     ],
     "language": "python",
     "metadata": {},
     "outputs": [],
     "prompt_number": 138
    },
    {
     "cell_type": "code",
     "collapsed": false,
     "input": [
      "#help(time)"
     ],
     "language": "python",
     "metadata": {},
     "outputs": [],
     "prompt_number": 148
    },
    {
     "cell_type": "code",
     "collapsed": false,
     "input": [
      "print time.localtime()"
     ],
     "language": "python",
     "metadata": {},
     "outputs": [
      {
       "output_type": "stream",
       "stream": "stdout",
       "text": [
        "time.struct_time(tm_year=2014, tm_mon=1, tm_mday=2, tm_hour=19, tm_min=24, tm_sec=8, tm_wday=3, tm_yday=2, tm_isdst=0)\n"
       ]
      }
     ],
     "prompt_number": 140
    },
    {
     "cell_type": "code",
     "collapsed": false,
     "input": [
      "# Coverts structured time format from gmttime to string\n",
      "strftime(\"%a, %d %b %Y %H:%M:%S +0000\", gmtime())"
     ],
     "language": "python",
     "metadata": {},
     "outputs": [
      {
       "output_type": "pyout",
       "prompt_number": 141,
       "text": [
        "'Thu, 02 Jan 2014 13:54:09 +0000'"
       ]
      }
     ],
     "prompt_number": 141
    },
    {
     "cell_type": "code",
     "collapsed": false,
     "input": [
      "# Coverts structured time format from localtime to string\n",
      "strftime(\"%a, %d %b %Y %H:%M:%S +0000\", localtime())"
     ],
     "language": "python",
     "metadata": {},
     "outputs": [
      {
       "output_type": "pyout",
       "prompt_number": 142,
       "text": [
        "'Thu, 02 Jan 2014 19:24:29 +0000'"
       ]
      }
     ],
     "prompt_number": 142
    },
    {
     "cell_type": "code",
     "collapsed": false,
     "input": [
      "# Returns UTC timestamp as string \n",
      "# Time elapsed since 1 Jan 1970\n",
      "utc_timestamp = time.time()\n",
      "print utc_timestamp"
     ],
     "language": "python",
     "metadata": {},
     "outputs": [],
     "prompt_number": 146
    },
    {
     "cell_type": "code",
     "collapsed": false,
     "input": [
      "# Python data analytics library\n",
      "import pandas as pd\n",
      "from pandas import DataFrame, Series"
     ],
     "language": "python",
     "metadata": {},
     "outputs": [],
     "prompt_number": 156
    },
    {
     "cell_type": "code",
     "collapsed": false,
     "input": [
      "#help(pandas.DataFrame)"
     ],
     "language": "python",
     "metadata": {},
     "outputs": [],
     "prompt_number": 157
    },
    {
     "cell_type": "code",
     "collapsed": false,
     "input": [
      "frame = DataFrame(records)"
     ],
     "language": "python",
     "metadata": {},
     "outputs": [],
     "prompt_number": 159
    },
    {
     "cell_type": "code",
     "collapsed": false,
     "input": [
      "frame"
     ],
     "language": "python",
     "metadata": {},
     "outputs": [
      {
       "html": [
        "<pre>\n",
        "&lt;class 'pandas.core.frame.DataFrame'&gt;\n",
        "Int64Index: 3560 entries, 0 to 3559\n",
        "Data columns (total 18 columns):\n",
        "_heartbeat_    120  non-null values\n",
        "a              3440  non-null values\n",
        "al             3094  non-null values\n",
        "c              2919  non-null values\n",
        "cy             2919  non-null values\n",
        "g              3440  non-null values\n",
        "gr             2919  non-null values\n",
        "h              3440  non-null values\n",
        "hc             3440  non-null values\n",
        "hh             3440  non-null values\n",
        "kw             93  non-null values\n",
        "l              3440  non-null values\n",
        "ll             2919  non-null values\n",
        "nk             3440  non-null values\n",
        "r              3440  non-null values\n",
        "t              3440  non-null values\n",
        "tz             3440  non-null values\n",
        "u              3440  non-null values\n",
        "dtypes: float64(4), object(14)\n",
        "</pre>"
       ],
       "output_type": "pyout",
       "prompt_number": 165,
       "text": [
        "<class 'pandas.core.frame.DataFrame'>\n",
        "Int64Index: 3560 entries, 0 to 3559\n",
        "Data columns (total 18 columns):\n",
        "_heartbeat_    120  non-null values\n",
        "a              3440  non-null values\n",
        "al             3094  non-null values\n",
        "c              2919  non-null values\n",
        "cy             2919  non-null values\n",
        "g              3440  non-null values\n",
        "gr             2919  non-null values\n",
        "h              3440  non-null values\n",
        "hc             3440  non-null values\n",
        "hh             3440  non-null values\n",
        "kw             93  non-null values\n",
        "l              3440  non-null values\n",
        "ll             2919  non-null values\n",
        "nk             3440  non-null values\n",
        "r              3440  non-null values\n",
        "t              3440  non-null values\n",
        "tz             3440  non-null values\n",
        "u              3440  non-null values\n",
        "dtypes: float64(4), object(14)"
       ]
      }
     ],
     "prompt_number": 165
    },
    {
     "cell_type": "code",
     "collapsed": false,
     "input": [
      "# Output shown for the 'frame' is the summary view used for large datasets \n",
      "# Series object is returned by frame['tz']\n",
      "frame['tz'][:10]"
     ],
     "language": "python",
     "metadata": {},
     "outputs": [
      {
       "output_type": "pyout",
       "prompt_number": 166,
       "text": [
        "0     America/New_York\n",
        "1       America/Denver\n",
        "2     America/New_York\n",
        "3    America/Sao_Paulo\n",
        "4     America/New_York\n",
        "5     America/New_York\n",
        "6        Europe/Warsaw\n",
        "7                     \n",
        "8                     \n",
        "9                     \n",
        "Name: tz, dtype: object"
       ]
      }
     ],
     "prompt_number": 166
    },
    {
     "cell_type": "code",
     "collapsed": false,
     "input": [
      "# Series object is returned by frame['tz'] has a method \"value_counts\" that gives us counts for this particular object\n",
      "tz_counts = frame['tz'].value_counts()\n",
      "tz_counts[:10]"
     ],
     "language": "python",
     "metadata": {},
     "outputs": [
      {
       "output_type": "pyout",
       "prompt_number": 170,
       "text": [
        "America/New_York       1251\n",
        "                        521\n",
        "America/Chicago         400\n",
        "America/Los_Angeles     382\n",
        "America/Denver          191\n",
        "Europe/London            74\n",
        "Asia/Tokyo               37\n",
        "Pacific/Honolulu         36\n",
        "Europe/Madrid            35\n",
        "America/Sao_Paulo        33\n",
        "dtype: int64"
       ]
      }
     ],
     "prompt_number": 170
    },
    {
     "cell_type": "code",
     "collapsed": false,
     "input": [
      "# Output shown for the 'frame' is the summary view used for large datasets \n",
      "# Series object is returned by frame['tz']\n",
      "frame['u'][:10]"
     ],
     "language": "python",
     "metadata": {},
     "outputs": [
      {
       "output_type": "pyout",
       "prompt_number": 174,
       "text": [
        "0          http://www.ncbi.nlm.nih.gov/pubmed/22415991\n",
        "1          http://www.monroecounty.gov/etc/911/rss.php\n",
        "2    http://boxer.senate.gov/en/press/releases/0316...\n",
        "3              http://apod.nasa.gov/apod/ap120312.html\n",
        "4    http://www.shrewsbury-ma.gov/egov/gallery/1341...\n",
        "5    http://www.shrewsbury-ma.gov/egov/gallery/1341...\n",
        "6    http://www.nasa.gov/mission_pages/nustar/main/...\n",
        "7    http://www.nasa.gov/mission_pages/nustar/main/...\n",
        "8    http://www.nasa.gov/mission_pages/nustar/main/...\n",
        "9              http://apod.nasa.gov/apod/ap120312.html\n",
        "Name: u, dtype: object"
       ]
      }
     ],
     "prompt_number": 174
    },
    {
     "cell_type": "code",
     "collapsed": false,
     "input": [
      "# Series object is returned by frame['tz'] has a method \"value_counts\" that gives us counts for this particular object\n",
      "tz_counts = frame['u'].value_counts()\n",
      "tz_counts[:10]"
     ],
     "language": "python",
     "metadata": {},
     "outputs": [
      {
       "output_type": "pyout",
       "prompt_number": 175,
       "text": [
        "https://www.nysdot.gov/rexdesign/design/community.gif           836\n",
        "http://www.nasa.gov/mission_pages/nustar/main/index.html        425\n",
        "http://www.nasa.gov/multimedia/imagegallery/image_feature_2199.html    129\n",
        "http://www.monroecounty.gov/etc/911/rss.php                     121\n",
        "http://www.bls.gov/cps/cpsdisability.htm/                        60\n",
        "http://www.fda.gov/Safety/Recalls/ucm296326.htm                  50\n",
        "http://www.shrewsbury-ma.gov/egov/gallery/134127368672998.png     47\n",
        "http://www.shrewsbury-ma.gov/egov/gallery/134127368675393.png     47\n",
        "http://www.whitehouse.gov/energy/gasprices#.T2NboBE2Aok.twitter     37\n",
        "http://www.fda.gov/AdvisoryCommittees/CommitteesMeetingMaterials/Drugs/Anti-InfectiveDrugsAdvisoryCommittee/ucm242307.htm     32\n",
        "dtype: int64"
       ]
      }
     ],
     "prompt_number": 175
    },
    {
     "cell_type": "code",
     "collapsed": false,
     "input": [],
     "language": "python",
     "metadata": {},
     "outputs": []
    }
   ],
   "metadata": {}
  }
 ]
}